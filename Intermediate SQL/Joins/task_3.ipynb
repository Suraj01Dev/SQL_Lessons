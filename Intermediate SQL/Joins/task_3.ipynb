{
  "cells": [
    {
      "cell_type": "markdown",
      "metadata": {
        "id": "kbYXPYQ4pVyp"
      },
      "source": [
        "## Freedom Ranking for Different Countries\n",
        "\n",
        "You can get the dataset from [here](https://drive.google.com/drive/folders/1wr0J571rlfexEJ4-de6_tz1QvU-cJ0df?usp=share_link).\n",
        "\n",
        "Some feature details of the dataset:\n",
        "\n",
        "| Feature | Description |\n",
        "| :--: | :-- |\n",
        "| A | Electoral Process |\n",
        "| B | Political Pluralism and Participation |\n",
        "| C | Functioning of Government |\n",
        "| D | Freedom of Expression and Belief |\n",
        "| E | Associational and Organizational Rights |\n",
        "| F | Rule of Law |\n",
        "| G | Personal Autonomy and Individual Rights |\n",
        "| CL | Civil Liberties Scores |\n",
        "| Status | F=Free, PF=Partly Free, NF=Not Free |\n",
        "\n",
        "\n",
        "### `Q-1` Find out top 10 countries' which have maximum A and D values.\n",
        "\n",
        "\n",
        "### `Q-2` Find out highest CL value for 2020 for every region. Also sort the result in descending order. Also display the CL values in descending order."
      ]
    },
    {
      "cell_type": "code",
      "execution_count": null,
      "metadata": {
        "vscode": {
          "languageId": "sql"
        }
      },
      "outputs": [],
      "source": [
        "#Q1\n",
        "select a.country,a,d from \n",
        "(select `Country`,a from country_ab order by a desc limit 10) a\n",
        "left join\n",
        "(select `Country`, d from country_cd order by d desc limit 10) b\n",
        "on a.Country=b.Country\n",
        "union\n",
        "select b.country,a,d from \n",
        "(select `Country`,a from country_ab order by a desc limit 10) a\n",
        "right join\n",
        "(select `Country`, d from country_cd order by d desc limit 10) b\n",
        "on a.Country=b.Country"
      ]
    },
    {
      "cell_type": "code",
      "execution_count": null,
      "metadata": {
        "vscode": {
          "languageId": "sql"
        }
      },
      "outputs": [],
      "source": [
        "select * from country_ab"
      ]
    },
    {
      "cell_type": "code",
      "execution_count": null,
      "metadata": {
        "vscode": {
          "languageId": "sql"
        }
      },
      "outputs": [],
      "source": [
        "select * from country_cl where Edition =2020"
      ]
    },
    {
      "cell_type": "code",
      "execution_count": null,
      "metadata": {
        "vscode": {
          "languageId": "sql"
        }
      },
      "outputs": [],
      "source": [
        "select `Country`, max(CL) from country_cl where `Edition`=2020 group by `Country`"
      ]
    },
    {
      "cell_type": "code",
      "execution_count": null,
      "metadata": {
        "vscode": {
          "languageId": "sql"
        }
      },
      "outputs": [],
      "source": [
        "select ab.Region, max(cl.`CL`) as max_cl from \n",
        "country_ab ab join country_cl cl on ab.`Country`=cl.`Country` \n",
        "where cl.`Edition`=2020\n",
        "group by ab.`Region` order by max_cl desc"
      ]
    },
    {
      "cell_type": "markdown",
      "metadata": {
        "id": "62JBrjrmpcn-"
      },
      "source": [
        "## Dataset\n",
        "Data Link-> https://drive.google.com/drive/folders/1bGgNTDy5L_IodNcGHdB_SNCkUI5MUjmY?usp=share_link\n",
        "Four Tables:\n",
        "* Customer\n",
        "* Employee\n",
        "* Sales\n",
        "* Products\n",
        "\n",
        "### `Q-3` Find top-5 most sold products.\n",
        "\n",
        "### `Q-4:` Find sales man who sold most no of products.\n",
        "\n",
        "### `Q-5:` Sales man name who has most no of unique customer.\n",
        "\n",
        "### `Q-6:` Sales man who has generated most revenue. Show top 5.\n",
        "\n",
        "### `Q-7:` List all customers who have made more than 10 purchases.\n",
        "\n",
        "### `Q-8` : List all salespeople who have made sales to more than 5 customers.\n",
        "\n",
        "### `Q-9:` List all pairs of customers who have made purchases with the same salesperson.\n",
        "\n"
      ]
    },
    {
      "cell_type": "code",
      "execution_count": null,
      "metadata": {
        "vscode": {
          "languageId": "sql"
        }
      },
      "outputs": [],
      "source": [
        "select e.Total_Sales, p.`Name` from\n",
        "(select sum(`Quantity`) as \"Total_Sales\", `ProductID` from sales1 group by `ProductID` order by Total_Sales desc limit 5) as e\n",
        "join products p  on e.ProductID=p.ProductID order by e.Total_Sales desc"
      ]
    },
    {
      "cell_type": "code",
      "execution_count": null,
      "metadata": {
        "vscode": {
          "languageId": "sql"
        }
      },
      "outputs": [],
      "source": [
        "#Q4\n",
        "#soln1\n",
        "select * from employees1 where `EmployeeID` = (select `SalesPersonID` from sales1 group by `SalesPersonID` order by sum(`Quantity`) desc limit 1)\n",
        "\n",
        "#soln2 \n",
        "select s.`SalesPersonID`, s.Total_Sales, e.`LastName` from\n",
        "(select `SalesPersonID`, sum(`Quantity`) as 'Total_Sales' from sales1 group by `SalesPersonID` order by sum(`Quantity`) desc limit 1) as s\n",
        "join employees1 e on e.`EmployeeID`=s.`SalesPersonID`\n"
      ]
    },
    {
      "cell_type": "code",
      "execution_count": null,
      "metadata": {
        "vscode": {
          "languageId": "sql"
        }
      },
      "outputs": [],
      "source": [
        "select * from sales1\n",
        "\n",
        "select * from products\n",
        "\n",
        "select * from employees1\n",
        "\n",
        "select * from cx"
      ]
    },
    {
      "cell_type": "code",
      "execution_count": null,
      "metadata": {
        "vscode": {
          "languageId": "sql"
        }
      },
      "outputs": [],
      "source": [
        "#Q6\n",
        "select sum(p.`Price`* s.`Quantity`) as \"Total_Revenue\", e.`FirstName` from sales1 s join products p on s.`ProductID`=p.`ProductID` join employees1 e on s.`SalesPersonID`= e.`EmployeeID` group by s.`SalesPersonID`,e.`FirstName` order by Total_Revenue desc limit 5"
      ]
    },
    {
      "cell_type": "code",
      "execution_count": null,
      "metadata": {
        "vscode": {
          "languageId": "sql"
        }
      },
      "outputs": [],
      "source": [
        "#Q7\n",
        "select s.Total_Purchases, e.`FirstName`, s.`CustomerID` from\n",
        "(select count(*) as \"Total_Purchases\", `CustomerID` from sales1 group by `CustomerID` having Total_Purchases>10) as s\n",
        "join employees1 e on e.`EmployeeID` = s.`SalesPersonID`"
      ]
    },
    {
      "cell_type": "code",
      "execution_count": null,
      "metadata": {
        "vscode": {
          "languageId": "sql"
        }
      },
      "outputs": [],
      "source": [
        "#Q8\n",
        "select count(distinct(s.`CustomerID`))  as \"Total_CX\", concat(e.`FirstName`,\" \", e.`LastName`) as \"Sales Person Name\" from sales1 s join employees1 e on e.`EmployeeID`= s.`SalesPersonID` group by s.`SalesPersonID`,e.`FirstName`, e.`LastName` having Total_CX >5"
      ]
    },
    {
      "cell_type": "code",
      "execution_count": null,
      "metadata": {
        "vscode": {
          "languageId": "sql"
        }
      },
      "outputs": [],
      "source": [
        "select distinct (t1.`CustomerID`) as CX1, t2.`CustomerID` as CX2 from sales1 t1 join sales1 t2 on t1.`SalesPersonID`=t2.`SalesPersonID` where t1.`CustomerID` !=t2.`CustomerID`"
      ]
    }
  ],
  "metadata": {
    "colab": {
      "provenance": []
    },
    "kernelspec": {
      "display_name": "Python 3",
      "name": "python3"
    },
    "language_info": {
      "name": "python"
    }
  },
  "nbformat": 4,
  "nbformat_minor": 0
}
