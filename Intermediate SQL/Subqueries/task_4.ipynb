{
  "cells": [
    {
      "cell_type": "markdown",
      "metadata": {
        "id": "NLmTBdPfOKCI"
      },
      "source": [
        "# SQL SubQuery\n",
        "## How to load the dataset(s) to SQL?\n",
        "Using Python, you can load the large datasets to MySQL database very easily. For that follow the below steps.\n",
        "\n",
        "- First create a database in your local machine server.\n",
        "\n",
        "```sql\n",
        "CREATE DATABASE <database_name>\n",
        "```\n",
        "\n",
        "- Next, use Python to load the database\n",
        "\n",
        "```python\n",
        "import pandas as pd\n",
        "from sqlalchemy import create_engine\n",
        "\n",
        "df = pd.read_csv(\"file/path/to/the/database.csv\")\n",
        "\n",
        "engine = create_engine(\"mysql+pymysql://<db_username>:<db_password>@<hostname>/<database_name>\")\n",
        "df.to_sql(\"<table_name>\", con=engine)\n",
        "```\n",
        "\n",
        "## Problems 1-6\n",
        "\n",
        "For problems 1 to 6, use the Olympic dataset. You can get that from [here](https://drive.google.com/file/d/1EGIRBkbQGByJPvCqDtxtTnXv93oGunFp/view?usp=share_link).\n",
        "\n",
        "**Column description:**\n",
        "1. ID -> ID of every records to our dataset. It has integer datatype.\n",
        "2. Name -> Name of the athletes.\n",
        "3. Sex -> Gender of the athletes.\n",
        "4. Height -> Height of the athletes\n",
        "5. Weight -> Weight of the athletes\n",
        "6. NOC -> In which country, the athletes belong to. This is actually the country code.\n",
        "7. Year -> In which year, the athlete has participated\n",
        "8. Sport -> What is the sport name in which the athlete participated.\n",
        "9. Event -> Event name of the sport\n",
        "10. Medal -> Which medal the athlege got. If the athlete did not get any medal then this cell is blank.\n",
        "11. country -> The name of the country."
      ]
    },
    {
      "cell_type": "code",
      "execution_count": null,
      "metadata": {
        "vscode": {
          "languageId": "sql"
        }
      },
      "outputs": [],
      "source": [
        "select distinct `Medal` from olympic;"
      ]
    },
    {
      "cell_type": "markdown",
      "metadata": {},
      "source": [
        "### Problem 1\n",
        "\n",
        "Display the names of athletes who won a gold medal in the 2008 Olympics and whose height is greater than the average height of all athletes in the 2008 Olympics."
      ]
    },
    {
      "cell_type": "code",
      "execution_count": null,
      "metadata": {
        "id": "aFr6SMoAOLJ2",
        "vscode": {
          "languageId": "sql"
        }
      },
      "outputs": [],
      "source": [
        "#Q1\n",
        "select name from olympic where `Year`=2008 and `Medal`=\"Gold\" and `Height` > (select avg(`Height`) from olympic where `Year`=2008)"
      ]
    },
    {
      "cell_type": "markdown",
      "metadata": {},
      "source": [
        "\n",
        "### Problem 2\n",
        "\n",
        "Display the names of athletes who won a medal in the sport of basketball in the 2016 Olympics and whose weight is less than the average weight of all athletes who won a medal in the 2016 Olympics.\n"
      ]
    },
    {
      "cell_type": "code",
      "execution_count": null,
      "metadata": {
        "vscode": {
          "languageId": "sql"
        }
      },
      "outputs": [],
      "source": [
        "#Q2\n",
        "select * from olympic where `Sport`=\"Basketball\" and `Year`=2016  and `Medal` is not null and `Weight` < (select `Weight` from olympic where `Year`=2016 and medal is not null)"
      ]
    },
    {
      "cell_type": "markdown",
      "metadata": {},
      "source": [
        "\n",
        "### Problem 3\n",
        "\n",
        "Display the names of all athletes who have won a medal in the sport of swimming in both the 2008 and 2016 Olympics."
      ]
    },
    {
      "cell_type": "code",
      "execution_count": null,
      "metadata": {
        "vscode": {
          "languageId": "sql"
        }
      },
      "outputs": [],
      "source": [
        "#Q3\n",
        "select * from olympic where `Medal` is not null and `Year` in (2008, 2016) and `Sport`=\"Swimming\""
      ]
    },
    {
      "cell_type": "markdown",
      "metadata": {},
      "source": [
        "### Problem 4\n",
        "\n",
        "Display the names of all countries that have won more than 50 medals in a single year.\n"
      ]
    },
    {
      "cell_type": "code",
      "execution_count": null,
      "metadata": {
        "vscode": {
          "languageId": "sql"
        }
      },
      "outputs": [],
      "source": [
        "#Q4\n",
        "select country,`Year`, count(`Medal`) as \"medal_count\" from olympic where `Medal` is not null GROUP BY country, `Year` having medal_count>50;"
      ]
    },
    {
      "cell_type": "markdown",
      "metadata": {},
      "source": [
        "### Problem 5\n",
        "\n",
        "Display the names of all athletes who have won medals in more than one sport in the same year."
      ]
    },
    {
      "cell_type": "code",
      "execution_count": null,
      "metadata": {
        "vscode": {
          "languageId": "sql"
        }
      },
      "outputs": [],
      "source": [
        "#Q5\n",
        "select  distinct `Name`,count(`Sport`) as num_sport from olympic where `Medal` is not null group by `Name`, `Year`, `Sport` having num_sport>1 order by num_sport desc;"
      ]
    },
    {
      "cell_type": "markdown",
      "metadata": {},
      "source": [
        "### Problem 6\n",
        "\n",
        "What is the average weight difference between male and female athletes in the Olympics who have won a medal in the same event?"
      ]
    },
    {
      "cell_type": "code",
      "execution_count": null,
      "metadata": {
        "vscode": {
          "languageId": "sql"
        }
      },
      "outputs": [],
      "source": [
        "#Q6\n",
        "select ABS(t1.AvgWeight-t2.AvgWeight) as AvgWeightDiff, t1.Sport from\n",
        "(select `Sport`, avg(`Weight`) as \"AvgWeight\" from olympic where `Medal` is not null and `Sex`=\"M\" GROUP BY `Sport`) as t1 \n",
        "join \n",
        "(select `Sport`, avg(`Weight`) as \"AvgWeight\" from olympic where `Medal` is not null and `Sex`=\"F\" GROUP BY `Sport`) as t2\n",
        "on t1.Sport=t2.Sport order by AvgWeightDiff"
      ]
    },
    {
      "cell_type": "markdown",
      "metadata": {
        "id": "9RFThGnIOYec"
      },
      "source": [
        "## Problem 7 - 10\n",
        "\n",
        "Use the health insurance dataset. You can get the dataset as well as the description of the dataset [here](https://www.kaggle.com/datasets/thedevastator/insurance-claim-analysis-demographic-and-health)."
      ]
    },
    {
      "cell_type": "code",
      "execution_count": null,
      "metadata": {
        "id": "hKdiVL-iOjJV",
        "vscode": {
          "languageId": "sql"
        }
      },
      "outputs": [],
      "source": [
        "select * from insurance;"
      ]
    },
    {
      "cell_type": "markdown",
      "metadata": {},
      "source": [
        "### Problem 7\n",
        "\n",
        "How many patients have claimed more than the average claim amount for patients who are smokers and have at least one child, and belong to the southeast region?"
      ]
    },
    {
      "cell_type": "code",
      "execution_count": null,
      "metadata": {
        "vscode": {
          "languageId": "sql"
        }
      },
      "outputs": [],
      "source": [
        "select count(*) from insurance where claim > (select  AVG(claim) from insurance where smoker=\"Yes\" and children >=1 and region =\"southeast\" )"
      ]
    },
    {
      "cell_type": "markdown",
      "metadata": {},
      "source": [
        "### Problem 8\n",
        "\n",
        "How many patients have claimed more than the average claim amount for patients who are not smokers and have a BMI greater than the average BMI for patients who have at least one child?"
      ]
    },
    {
      "cell_type": "code",
      "execution_count": null,
      "metadata": {
        "vscode": {
          "languageId": "sql"
        }
      },
      "outputs": [],
      "source": [
        "select count(*) from insurance where claim > (select  AVG(claim) from insurance where smoker=\"No\" and bmi > (select AVG(bmi) from insurance where children >=1))"
      ]
    },
    {
      "cell_type": "markdown",
      "metadata": {},
      "source": [
        "\n",
        "### Problem 9\n",
        "\n",
        "How many patients have claimed more than the average claim amount for patients who have a BMI greater than the average BMI for patients who are diabetic, have at least one child, and are from the southwest region?"
      ]
    },
    {
      "cell_type": "code",
      "execution_count": null,
      "metadata": {
        "vscode": {
          "languageId": "sql"
        }
      },
      "outputs": [],
      "source": [
        "select count(*) from insurance where claim > (select avg(claim) from insurance where bmi > (select avg(bmi) from insurance where diabetic=\"Yes\" and children>=1 and region=\"southwest\"))"
      ]
    },
    {
      "cell_type": "markdown",
      "metadata": {},
      "source": [
        "### Problem 10:\n",
        "\n",
        "What is the difference in the average claim amount between patients who are smokers and patients who are non-smokers, and have the same BMI and number of children?"
      ]
    },
    {
      "cell_type": "code",
      "execution_count": null,
      "metadata": {
        "vscode": {
          "languageId": "sql"
        }
      },
      "outputs": [],
      "source": [
        "SELECT AVG(A.claim - B.claim) FROM insurance A\n",
        "JOIN insurance B\n",
        "ON A.bmi = B.bmi\n",
        "AND A.smoker != B.smoker \n",
        "AND A.children = B.children"
      ]
    }
  ],
  "metadata": {
    "colab": {
      "provenance": []
    },
    "kernelspec": {
      "display_name": "Python 3",
      "name": "python3"
    },
    "language_info": {
      "name": "python"
    }
  },
  "nbformat": 4,
  "nbformat_minor": 0
}
