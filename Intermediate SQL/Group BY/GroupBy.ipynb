{
  "cells": [
    {
      "cell_type": "markdown",
      "metadata": {
        "id": "_GfKmtlR3Vcb"
      },
      "source": [
        "## Sleep Efficiency Dataset\n",
        "For questions 1-5, you can find the dataset and details about it from [here](https://www.kaggle.com/datasets/equilibriumm/sleep-efficiency).\n",
        "\n",
        "`ID`\n",
        "a unique identifier for each test subject\n",
        "\n",
        "`Age`\n",
        "age of the test subject\n",
        "\n",
        "`Gender`\n",
        "male or female\n",
        "\n",
        "`Bedtime`\n",
        "the time the test subject goes to bed each night\n",
        "\n",
        "`Wakeup time`\n",
        "the time the test subject wakes up each morning\n",
        "\n",
        "`Sleep duration`\n",
        "the total amount of time the test subject slept (in hours)\n",
        "\n",
        "`Sleep efficiency`\n",
        "a measure of the proportion of time in bed spent asleep\n",
        "\n",
        "`REM sleep percentage`\n",
        "the percentage of total sleep time spent in REM sleep\n",
        "\n",
        "`Deep sleep percentage`\n",
        "the percentage of total sleep time spent in deep sleep\n",
        "\n",
        "`Light sleep percentage`\n",
        "the percentage of total sleep time spent in light sleep\n",
        "\n",
        "`Awakenings`\n",
        "the number of times the test subject wakes up during the night\n",
        "\n",
        "`Caffeine consumption`\n",
        "the amount of caffeine consumed in the 24 hours prior to bedtime (in mg)\n",
        "\n",
        "`Alcohol consumption`\n",
        "the amount of alcohol consumed in the 24 hours prior to bedtime (in oz)\n",
        "\n",
        "`Smoking status`\n",
        "whether or not the test subject smokes\n",
        "\n",
        "`Exercise frequency`\n",
        "the number of times the test subject exercises each week\n",
        "\n"
      ]
    },
    {
      "cell_type": "markdown",
      "metadata": {
        "id": "AH94HTr93eW6"
      },
      "source": [
        "### **`Problem 1:`**\n",
        "\n",
        "**The question is:**\n",
        "\n",
        "Find out the average sleep duration of top 15 male candidates who's sleep duration are equal to 7.5 or greater than 7.5.\n",
        "\n",
        "\n",
        "### `Problem 2:` Show avg deep sleep time for both gender. Round result at 2 decimal places.\n",
        "\n",
        "Note: sleep time and deep sleep percentage will give you, deep sleep time.\n",
        "\n",
        "\n",
        "### **`Problem 3:`**\n",
        "\n",
        "\n",
        "**The question is:**\n",
        "\n",
        "Find out the lowest 10th to 30th light sleep percentage records where deep sleep percentage values are between 25 to 45. Display age, light sleep percentage and deep sleep percentage columns only.\n",
        "\n",
        "\n",
        "\n",
        "### `Problem 4:` Group by on exercise frequency and smoking status and show average deep sleep time, average light sleep time and avg rem sleep time.\n",
        "\n",
        "* Note the differences in deep sleep time for smoking and non smoking status\n",
        "\n",
        "\n",
        "\n",
        "### `Problem 5:` Group By on Awekning and show AVG Caffeine consumption, AVG Deep sleep time and AVG Alcohol consumption only for people who do exercise atleast 3 days a week. Show result in descending order awekenings"
      ]
    },
    {
      "cell_type": "code",
      "execution_count": null,
      "metadata": {
        "vscode": {
          "languageId": "sql"
        }
      },
      "outputs": [],
      "source": [
        "desc sleep;"
      ]
    },
    {
      "cell_type": "code",
      "execution_count": null,
      "metadata": {
        "vscode": {
          "languageId": "sql"
        }
      },
      "outputs": [],
      "source": [
        "select * from sleep limit 5;"
      ]
    },
    {
      "cell_type": "code",
      "execution_count": null,
      "metadata": {
        "id": "Eq7CQ4K03vPC",
        "vscode": {
          "languageId": "sql"
        }
      },
      "outputs": [],
      "source": [
        "# Problem 1\n",
        "select ID, `Sleep duration` from sleep where `Gender`='Male' order by `Sleep duration` desc limit 15;"
      ]
    },
    {
      "cell_type": "code",
      "execution_count": null,
      "metadata": {
        "vscode": {
          "languageId": "sql"
        }
      },
      "outputs": [],
      "source": [
        "#Problem 2\n",
        "select `Gender`, round(avg((`Deep sleep percentage`*`Sleep duration`)/100)) as Deep_Sleep from sleep group by `Gender`;"
      ]
    },
    {
      "cell_type": "code",
      "execution_count": null,
      "metadata": {
        "vscode": {
          "languageId": "sql"
        }
      },
      "outputs": [],
      "source": [
        "#  Problem 3\n",
        "select `Age`, `Light sleep percentage`, `Deep sleep percentage` from sleep where `Deep sleep percentage` BETWEEN 25 and 45 order by `Light sleep percentage` limit 10,20 ;"
      ]
    },
    {
      "cell_type": "code",
      "execution_count": null,
      "metadata": {
        "vscode": {
          "languageId": "sql"
        }
      },
      "outputs": [],
      "source": [
        "# Problem 4 Group by on exercise frequency and smoking status and show average deep sleep time, average light sleep time and avg rem sleep time.\n",
        "select avg(`Deep sleep percentage`), avg(`Light sleep percentage`), avg(`REM sleep percentage`) from sleep group by `Exercise frequency`, `Smoking status`\n"
      ]
    },
    {
      "cell_type": "code",
      "execution_count": null,
      "metadata": {
        "vscode": {
          "languageId": "sql"
        }
      },
      "outputs": [],
      "source": [
        "# Problem 5 : Group By on Awekning and show AVG Caffeine consumption, AVG Deep sleep time and AVG Alcohol consumption only for people who do exercise atleast 3 days a week. Show result in descending order awekenings\n",
        "select `Awakenings`, avg(`Caffeine consumption`), avg(`Deep sleep percentage`), avg(`Alcohol consumption`) from sleep \n",
        "where `Exercise frequency` >'3.0' \n",
        "group by `Awakenings`;"
      ]
    },
    {
      "cell_type": "markdown",
      "metadata": {
        "id": "Pn5NOwhR3wgZ"
      },
      "source": [
        "## Power Generation Dataset\n",
        "\n",
        "For this question, you can find the details as well as the dataset from [here](https://www.kaggle.com/datasets/arvindnagaonkar/power-generation-data)."
      ]
    },
    {
      "cell_type": "code",
      "execution_count": null,
      "metadata": {
        "vscode": {
          "languageId": "sql"
        }
      },
      "outputs": [],
      "source": [
        "select * from power"
      ]
    },
    {
      "cell_type": "markdown",
      "metadata": {
        "id": "1_K7ZXQG3zGJ"
      },
      "source": [
        "### **`Problem 6:`**\n",
        "\n",
        "\n",
        "\n",
        "**The question is:**\n",
        "\n",
        "Display those power stations which have average 'Monitored Cap.(MW)' (display the values) between 1000 and 2000 and the number of occurance of the power stations (also display these values) are\n",
        "greater than 200. Also sort the result in ascending order.\n",
        "\n",
        "\n"
      ]
    },
    {
      "cell_type": "code",
      "execution_count": null,
      "metadata": {
        "vscode": {
          "languageId": "sql"
        }
      },
      "outputs": [],
      "source": [
        "select `Power Station`, avg(`Monitored Cap.(MW)`) as `Avg_Capacity`, count(*) as \"Occurences\" from power \n",
        "group by `Power Station` \n",
        "having (Avg_Capacity BETWEEN 1000 and 2000) and Occurences>200"
      ]
    },
    {
      "cell_type": "markdown",
      "metadata": {
        "id": "S4vjoWDu36Br"
      },
      "source": [
        "## Avg Cost of Undergrad College by State(USA) Dataset-\n",
        "For this question, you can find the detailed dataset from [here](https://www.kaggle.com/datasets/kfoster150/avg-cost-of-undergrad-college-by-state).\n",
        "\n",
        "`Year`\n",
        "The Digest year this information comes from\n",
        "\n",
        "`State`\n",
        "The U.S. State\n",
        "\n",
        "`Type`\n",
        "Type of University, Private or Public and in-state or out-of-state. Private colleges charge the same for in/out of state\n",
        "\n",
        "`Length`\n",
        "Whether the college mainly offers 2-year (Associates) or 4-year (Bachelors) programs\n",
        "\n",
        "`Expense`\n",
        "The Expense being described, tuition/fees or on-campus living expenses\n",
        "\n",
        "`Value`\n",
        "The average cost for this particular expense, in USD ($)"
      ]
    },
    {
      "cell_type": "code",
      "execution_count": null,
      "metadata": {
        "vscode": {
          "languageId": "sql"
        }
      },
      "outputs": [],
      "source": [
        "select * from college;"
      ]
    },
    {
      "cell_type": "markdown",
      "metadata": {
        "id": "VxlMC6yw3-B_"
      },
      "source": [
        "### **`Problem 7:`**\n",
        "\n",
        "**The question is:**\n",
        "\n",
        "Display top 10 lowest \"value\" State names of which the Year either belong to 2013 or 2017 or 2021 and type is 'Public In-State'. Also the number of occurance should be between 6 to 10. Display the average value upto 2 decimal places, state names and the occurance of the states."
      ]
    },
    {
      "cell_type": "code",
      "execution_count": null,
      "metadata": {
        "vscode": {
          "languageId": "sql"
        }
      },
      "outputs": [],
      "source": [
        "select round(avg(`Value`)) as `avg_val`,`State`, count(*) as `freq` from college \n",
        "where `Year` in (2013, 2017, 2021) and `Type` = \"Public In-State\" \n",
        "group by `State`\n",
        "having freq BETWEEN 6 and 10 \n",
        "order by avg_val desc limit 10\n"
      ]
    },
    {
      "cell_type": "markdown",
      "metadata": {},
      "source": [
        "### `Problem -8:` Best state in terms of low education cost (Tution Fees) in 'Public' type university."
      ]
    },
    {
      "cell_type": "code",
      "execution_count": null,
      "metadata": {
        "vscode": {
          "languageId": "sql"
        }
      },
      "outputs": [],
      "source": [
        "select `State`, avg(Value) as `avg_val` from college where `Type` like '%Public%' and `Expense` like '%Tuition%'  group by `State` order by avg_val asc limit 1"
      ]
    },
    {
      "cell_type": "markdown",
      "metadata": {},
      "source": [
        "### `Problem 9:` 2nd Costliest state for Private education in year 2021. Consider, Tution and Room fee both."
      ]
    },
    {
      "cell_type": "code",
      "execution_count": null,
      "metadata": {
        "vscode": {
          "languageId": "sql"
        }
      },
      "outputs": [],
      "source": [
        "select `State`, avg(Value) as `xpense` from college \n",
        "where `Type` like '%Private%' and `Year`=2021 \n",
        "group by `State` \n",
        "order by xpense desc limit 1,1"
      ]
    },
    {
      "cell_type": "markdown",
      "metadata": {
        "id": "-gWZEkBb4JpJ"
      },
      "source": [
        "### **`Problem 10:`**\n",
        "\n",
        "For this, you can find the dataset from [here]().\n",
        "\n",
        "**The question is:**\n",
        "\n",
        "Display total and average values of Discount_offered for all the combinations of 'Mode_of_Shipment' (display this feature) and 'Warehouse_block' (display this feature also) for all male ('M') and 'High' Product_importance. Also sort the values in descending order of Mode_of_Shipment and ascending order of Warehouse_block."
      ]
    },
    {
      "cell_type": "code",
      "execution_count": null,
      "metadata": {
        "vscode": {
          "languageId": "sql"
        }
      },
      "outputs": [],
      "source": [
        "select * from ecommerce;"
      ]
    },
    {
      "cell_type": "code",
      "execution_count": null,
      "metadata": {
        "vscode": {
          "languageId": "sql"
        }
      },
      "outputs": [],
      "source": [
        "select sum(`Discount_offered`) as totol_discount, avg(`Discount_offered`) as avg_discount from ecommerce \n",
        "where `Gender` like \"M\" and `Product_importance` like \"high\" \n",
        "group by `Mode_of_Shipment`,`Warehouse_block` \n",
        "order by `Mode_of_Shipment` desc, `Warehouse_block` asc"
      ]
    }
  ],
  "metadata": {
    "colab": {
      "provenance": []
    },
    "kernelspec": {
      "display_name": "Python 3",
      "name": "python3"
    },
    "language_info": {
      "name": "python"
    }
  },
  "nbformat": 4,
  "nbformat_minor": 0
}
